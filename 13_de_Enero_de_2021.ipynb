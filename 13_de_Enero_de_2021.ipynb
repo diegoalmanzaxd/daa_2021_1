{
  "nbformat": 4,
  "nbformat_minor": 0,
  "metadata": {
    "colab": {
      "name": "13 de Enero de 2021.ipynb",
      "provenance": [],
      "authorship_tag": "ABX9TyMBa3cw2AM3vHzjzhY3UwAW",
      "include_colab_link": true
    },
    "kernelspec": {
      "name": "python3",
      "display_name": "Python 3"
    }
  },
  "cells": [
    {
      "cell_type": "markdown",
      "metadata": {
        "id": "view-in-github",
        "colab_type": "text"
      },
      "source": [
        "<a href=\"https://colab.research.google.com/github/diegoalmanzaxd/daa_2021_1/blob/master/13_de_Enero_de_2021.ipynb\" target=\"_parent\"><img src=\"https://colab.research.google.com/assets/colab-badge.svg\" alt=\"Open In Colab\"/></a>"
      ]
    },
    {
      "cell_type": "code",
      "metadata": {
        "id": "Rd0VbbU8WXWk"
      },
      "source": [
        "class NodoArbol: \r\n",
        "    def __init__(self, dato, hijo_izq=None, hijo_der=None):\r\n",
        "        self.data = dato\r\n",
        "        self.left = hijo_izq\r\n",
        "        self.right = hijo_der"
      ],
      "execution_count": 16,
      "outputs": []
    },
    {
      "cell_type": "markdown",
      "metadata": {
        "id": "nh2Dt09HcJwk"
      },
      "source": [
        "Árbol binario de busqueda \r\n",
        "Los nodos a la izq son menores a la raiz y los nodos a la derecha son mayores a la raiz.\r\n",
        "Puedes ser recorridos en :  pre-oden, in-orden y post-orden"
      ]
    },
    {
      "cell_type": "code",
      "metadata": {
        "id": "gUtjrbB1cHOP"
      },
      "source": [
        "class BinarySearchTree:\r\n",
        "  def __init__(self):\r\n",
        "    self.__root = None\r\n",
        "    \r\n",
        "  def insert(self, value):\r\n",
        "    if self.__root == None:\r\n",
        "      self.__root = NodoArbol(value,None,None)\r\n",
        "    else:\r\n",
        "      #preguntar si value es menor que root, de ser el caso\r\n",
        "      #insertar a la izq. PERO... puede se el caso que el \r\n",
        "      #sub árbol izq ya tenga muchos elementos...\r\n",
        "      self.__insert_nodo__(self.__root, value)\r\n",
        "      \r\n",
        "  def __insert_nodo__(self, nodo,value):\r\n",
        "    if nodo.data == value:\r\n",
        "      pass\r\n",
        "    elif value < nodo.data: # true va a la IZQ\r\n",
        "      if nodo.left == None: # si hay espacio a la izq, ahí va\r\n",
        "        nodo.left = NodoArbol(value, None,None) # insertamos el nodo\r\n",
        "      else:\r\n",
        "        self.__insert_nodo__(nodo.left, value) # buscar en sub árbol izq\r\n",
        "    else:\r\n",
        "      if nodo.right == None:\r\n",
        "        nodo.right = NodoArbol(value, None, None)\r\n",
        "      else:\r\n",
        "        self.__insert_nodo__(nodo.right, value) # buscar en sub árbol der"
      ],
      "execution_count": 15,
      "outputs": []
    },
    {
      "cell_type": "code",
      "metadata": {
        "id": "uXLul2_JgoSH"
      },
      "source": [
        "bst=BinarySearchTree()\r\n",
        "bst.insert(50)\r\n",
        "bst.insert(30)\r\n",
        "bst.insert(20)\r\n",
        "#bst.search(30)# true o false?"
      ],
      "execution_count": 14,
      "outputs": []
    }
  ]
}