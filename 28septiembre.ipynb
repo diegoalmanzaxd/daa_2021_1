{
  "nbformat": 4,
  "nbformat_minor": 0,
  "metadata": {
    "colab": {
      "name": "28septiembre.ipynb",
      "provenance": [],
      "authorship_tag": "ABX9TyOd0QlTyTbx1tDWhtyGNZrT",
      "include_colab_link": true
    },
    "kernelspec": {
      "name": "python3",
      "display_name": "Python 3"
    }
  },
  "cells": [
    {
      "cell_type": "markdown",
      "metadata": {
        "id": "view-in-github",
        "colab_type": "text"
      },
      "source": [
        "<a href=\"https://colab.research.google.com/github/diegoalmanzaxd/daa_2021_1/blob/master/28septiembre.ipynb\" target=\"_parent\"><img src=\"https://colab.research.google.com/assets/colab-badge.svg\" alt=\"Open In Colab\"/></a>"
      ]
    },
    {
      "cell_type": "markdown",
      "metadata": {
        "id": "R1pfXFBdCt7Q"
      },
      "source": [
        "# Sección 1"
      ]
    },
    {
      "cell_type": "markdown",
      "metadata": {
        "id": "B0b4FjOkC7dj"
      },
      "source": [
        "En este archivo aprenderemos a programar en python \n",
        "con la herramienta de Google, Collab Research.\n",
        "También aprenderemos a guardar nuestros cambios a nuestro repositorio en Github"
      ]
    },
    {
      "cell_type": "markdown",
      "metadata": {
        "id": "KpARnB6dGe0u"
      },
      "source": [
        "## Código de ejemplo"
      ]
    },
    {
      "cell_type": "markdown",
      "metadata": {
        "id": "W6esPjbBGlfM"
      },
      "source": [
        "**Negritas**\n",
        "_itálicas_\n",
        "`edad=10\n",
        "print(edad)\n",
        "`"
      ]
    },
    {
      "cell_type": "code",
      "metadata": {
        "id": "0gLtfRzlG0sx",
        "outputId": "dd023e84-b803-4f0e-f003-6f5106c28f72",
        "colab": {
          "base_uri": "https://localhost:8080/",
          "height": 34
        }
      },
      "source": [
        "frutas=[]\n",
        "frutas.append(\"Manzana\")\n",
        "frutas.append(\"Piña\")\n",
        "frutas.append(\"Kiwi\")\n",
        "print(frutas)"
      ],
      "execution_count": 3,
      "outputs": [
        {
          "output_type": "stream",
          "text": [
            "['Manzana', 'Piña', 'Kiwi']\n"
          ],
          "name": "stdout"
        }
      ]
    },
    {
      "cell_type": "code",
      "metadata": {
        "id": "Bg0dVjQyHrKJ"
      },
      "source": [
        "archivo=open('prueba_daa.txt','wt')\n",
        "archivo.write(\"Hola Mundo Jupiter\")\n",
        "archivo.close()"
      ],
      "execution_count": 6,
      "outputs": []
    }
  ]
}