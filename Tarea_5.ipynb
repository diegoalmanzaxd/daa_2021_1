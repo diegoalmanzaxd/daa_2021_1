{
  "nbformat": 4,
  "nbformat_minor": 0,
  "metadata": {
    "colab": {
      "name": "Tarea 5.ipynb",
      "provenance": [],
      "authorship_tag": "ABX9TyPL63j05A16dkJTiJk8/Fbl",
      "include_colab_link": true
    },
    "kernelspec": {
      "name": "python3",
      "display_name": "Python 3"
    }
  },
  "cells": [
    {
      "cell_type": "markdown",
      "metadata": {
        "id": "view-in-github",
        "colab_type": "text"
      },
      "source": [
        "<a href=\"https://colab.research.google.com/github/diegoalmanzaxd/daa_2021_1/blob/master/Tarea_5.ipynb\" target=\"_parent\"><img src=\"https://colab.research.google.com/assets/colab-badge.svg\" alt=\"Open In Colab\"/></a>"
      ]
    },
    {
      "cell_type": "code",
      "metadata": {
        "id": "wyGcn9uXq5Yf",
        "outputId": "7750517d-1631-4eea-e892-e00d288a0a38",
        "colab": {
          "base_uri": "https://localhost:8080/",
          "height": 357
        }
      },
      "source": [
        "from time import time\n",
        "def ejemplo1( n ):\n",
        "  start_time = time()\n",
        "  c = n + 1\n",
        "  d = c * n\n",
        "  e = n * n\n",
        "  total = c + e - d\n",
        "  print(f\"total={ total }\")\n",
        "  elapsed_time = time() - start_time\n",
        "  print(\"Tiempo transcurrido: %0.10f segundos.\" % elapsed_time)\n",
        "for entrada in range(100,1100,100):\n",
        "  ejemplo1(entrada)"
      ],
      "execution_count": 2,
      "outputs": [
        {
          "output_type": "stream",
          "text": [
            "total=1\n",
            "Tiempo transcurrido: 0.0001575947 segundos.\n",
            "total=1\n",
            "Tiempo transcurrido: 0.0000324249 segundos.\n",
            "total=1\n",
            "Tiempo transcurrido: 0.0000147820 segundos.\n",
            "total=1\n",
            "Tiempo transcurrido: 0.0000305176 segundos.\n",
            "total=1\n",
            "Tiempo transcurrido: 0.0040762424 segundos.\n",
            "total=1\n",
            "Tiempo transcurrido: 0.0024759769 segundos.\n",
            "total=1\n",
            "Tiempo transcurrido: 0.0001935959 segundos.\n",
            "total=1\n",
            "Tiempo transcurrido: 0.0001189709 segundos.\n",
            "total=1\n",
            "Tiempo transcurrido: 0.0000963211 segundos.\n",
            "total=1\n",
            "Tiempo transcurrido: 0.0000364780 segundos.\n"
          ],
          "name": "stdout"
        }
      ]
    },
    {
      "cell_type": "code",
      "metadata": {
        "id": "8B4tzkIZs2MI",
        "outputId": "0a11e4be-b653-4a24-acaa-90a81b81a7d9",
        "colab": {
          "base_uri": "https://localhost:8080/",
          "height": 187
        }
      },
      "source": [
        "from time import time\n",
        "def ejemplo2( n ):\n",
        "  start_time = time()\n",
        "  contador = 0\n",
        "  for i in range( n ) :\n",
        "    for j in range( n ) :\n",
        "      contador += 1\n",
        "  elapsed_time = time() - start_time\n",
        "  print(\"Tiempo transcurrido: %0.10f segundos.\" % elapsed_time)\n",
        "  return contador\n",
        "for entrada in range(100,1100,100):\n",
        "  ejemplo2(entrada)"
      ],
      "execution_count": 3,
      "outputs": [
        {
          "output_type": "stream",
          "text": [
            "Tiempo transcurrido: 0.0005092621 segundos.\n",
            "Tiempo transcurrido: 0.0018477440 segundos.\n",
            "Tiempo transcurrido: 0.0045077801 segundos.\n",
            "Tiempo transcurrido: 0.0099833012 segundos.\n",
            "Tiempo transcurrido: 0.0183916092 segundos.\n",
            "Tiempo transcurrido: 0.0199561119 segundos.\n",
            "Tiempo transcurrido: 0.0256557465 segundos.\n",
            "Tiempo transcurrido: 0.0345811844 segundos.\n",
            "Tiempo transcurrido: 0.0429134369 segundos.\n",
            "Tiempo transcurrido: 0.0533785820 segundos.\n"
          ],
          "name": "stdout"
        }
      ]
    },
    {
      "cell_type": "code",
      "metadata": {
        "id": "64pRSmX6s2n-",
        "outputId": "1c2990c1-bf08-4a67-e0cb-73aadc63471b",
        "colab": {
          "base_uri": "https://localhost:8080/",
          "height": 187
        }
      },
      "source": [
        "from time import time\n",
        "def ejemplo3( n ): \n",
        "  start_time = time()\n",
        "  x = n * 2 \n",
        "  y = 0   \n",
        "  for m in range( 100 ): \n",
        "    y = x - n \n",
        "  elapsed_time = time() - start_time\n",
        "  print(\"Tiempo transcurrido: %0.10f segundos.\" % elapsed_time)  \n",
        "  return y\n",
        "for entrada in range(100,1100,100):\n",
        "  ejemplo3(entrada)"
      ],
      "execution_count": 4,
      "outputs": [
        {
          "output_type": "stream",
          "text": [
            "Tiempo transcurrido: 0.0000042915 segundos.\n",
            "Tiempo transcurrido: 0.0000138283 segundos.\n",
            "Tiempo transcurrido: 0.0000092983 segundos.\n",
            "Tiempo transcurrido: 0.0000083447 segundos.\n",
            "Tiempo transcurrido: 0.0000088215 segundos.\n",
            "Tiempo transcurrido: 0.0000083447 segundos.\n",
            "Tiempo transcurrido: 0.0000085831 segundos.\n",
            "Tiempo transcurrido: 0.0000083447 segundos.\n",
            "Tiempo transcurrido: 0.0000090599 segundos.\n",
            "Tiempo transcurrido: 0.0000083447 segundos.\n"
          ],
          "name": "stdout"
        }
      ]
    },
    {
      "cell_type": "code",
      "metadata": {
        "id": "t7dNkoAas3DH",
        "outputId": "a760d09b-7032-49f0-ce0b-c25fd9803003",
        "colab": {
          "base_uri": "https://localhost:8080/",
          "height": 187
        }
      },
      "source": [
        "from time import time\n",
        "def ejemplo4( n ):\n",
        "  start_time = time()\n",
        "  x = 3 * 3.1416 + n\n",
        "  y = x + 3 * 3 - n\n",
        "  z = x + y\n",
        "  elapsed_time = time() - start_time\n",
        "  print(\"Tiempo transcurrido: %0.10f segundos.\" % elapsed_time)\n",
        "  return z\n",
        "for entrada in range(100,1100,100):\n",
        "  ejemplo4(entrada)"
      ],
      "execution_count": 5,
      "outputs": [
        {
          "output_type": "stream",
          "text": [
            "Tiempo transcurrido: 0.0000009537 segundos.\n",
            "Tiempo transcurrido: 0.0000007153 segundos.\n",
            "Tiempo transcurrido: 0.0000004768 segundos.\n",
            "Tiempo transcurrido: 0.0000002384 segundos.\n",
            "Tiempo transcurrido: 0.0000002384 segundos.\n",
            "Tiempo transcurrido: 0.0000002384 segundos.\n",
            "Tiempo transcurrido: 0.0000004768 segundos.\n",
            "Tiempo transcurrido: 0.0000004768 segundos.\n",
            "Tiempo transcurrido: 0.0000002384 segundos.\n",
            "Tiempo transcurrido: 0.0000004768 segundos.\n"
          ],
          "name": "stdout"
        }
      ]
    },
    {
      "cell_type": "code",
      "metadata": {
        "id": "4TVA46j7s3ai",
        "outputId": "1914dcd4-9d78-489e-92ab-e26e5bebfe9b",
        "colab": {
          "base_uri": "https://localhost:8080/",
          "height": 187
        }
      },
      "source": [
        "from time import time\n",
        "def ejemplo5( x ):\n",
        "  start_time = time()\n",
        "  n = 10\n",
        "  for j in range( 0 , x , 1 ):\n",
        "    n = j + n\n",
        "  elapsed_time = time() - start_time\n",
        "  print(\"Tiempo transcurrido: %0.10f segundos.\" % elapsed_time)\n",
        "  return n\n",
        "for entrada in range(100,1100,100):\n",
        "  ejemplo5(entrada)"
      ],
      "execution_count": 16,
      "outputs": [
        {
          "output_type": "stream",
          "text": [
            "Tiempo transcurrido: 0.0000092983 segundos.\n",
            "Tiempo transcurrido: 0.0000176430 segundos.\n",
            "Tiempo transcurrido: 0.0000205040 segundos.\n",
            "Tiempo transcurrido: 0.0000288486 segundos.\n",
            "Tiempo transcurrido: 0.0000517368 segundos.\n",
            "Tiempo transcurrido: 0.0000700951 segundos.\n",
            "Tiempo transcurrido: 0.0000507832 segundos.\n",
            "Tiempo transcurrido: 0.0000855923 segundos.\n",
            "Tiempo transcurrido: 0.0000820160 segundos.\n",
            "Tiempo transcurrido: 0.0000829697 segundos.\n"
          ],
          "name": "stdout"
        }
      ]
    },
    {
      "cell_type": "code",
      "metadata": {
        "id": "qma4bS50s37C",
        "outputId": "d8b2d6ba-9c93-4b2a-b637-3a6ec56af5b0",
        "colab": {
          "base_uri": "https://localhost:8080/",
          "height": 187
        }
      },
      "source": [
        "from time import time\n",
        "def ejemplo6( n ):\n",
        "  start_time = time()\n",
        "  data=[[[1 for x in range(n)] for x in range(n)] for x in range(n)]\n",
        "  suma = 0\n",
        "  for d in range(n):\n",
        "    for r in range(n):\n",
        "      for c in range(n):\n",
        "        suma += data[d][r][c]\n",
        "    elapsed_time = time() - start_time\n",
        "    print(\"Tiempo transcurrido: %0.10f segundos.\" % elapsed_time)\n",
        "    return suma\n",
        "for entrada in range(100,1100,100):\n",
        "  ejemplo6(entrada)"
      ],
      "execution_count": 14,
      "outputs": [
        {
          "output_type": "stream",
          "text": [
            "Tiempo transcurrido: 0.0634136200 segundos.\n",
            "Tiempo transcurrido: 0.3904743195 segundos.\n",
            "Tiempo transcurrido: 1.6104652882 segundos.\n",
            "Tiempo transcurrido: 4.3905007839 segundos.\n",
            "Tiempo transcurrido: 8.3039259911 segundos.\n",
            "Tiempo transcurrido: 14.7310962677 segundos.\n",
            "Tiempo transcurrido: 25.8502223492 segundos.\n",
            "Tiempo transcurrido: 37.3661231995 segundos.\n",
            "Tiempo transcurrido: 55.7091758251 segundos.\n",
            "Tiempo transcurrido: 71.9811265469 segundos.\n"
          ],
          "name": "stdout"
        }
      ]
    }
  ]
}