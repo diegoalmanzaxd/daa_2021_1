{
  "nbformat": 4,
  "nbformat_minor": 0,
  "metadata": {
    "colab": {
      "name": "23 Octubre.ipynb",
      "provenance": [],
      "authorship_tag": "ABX9TyO0AdGEJg9IjArF0OF5gf92",
      "include_colab_link": true
    },
    "kernelspec": {
      "name": "python3",
      "display_name": "Python 3"
    }
  },
  "cells": [
    {
      "cell_type": "markdown",
      "metadata": {
        "id": "view-in-github",
        "colab_type": "text"
      },
      "source": [
        "<a href=\"https://colab.research.google.com/github/diegoalmanzaxd/daa_2021_1/blob/master/23_Octubre.ipynb\" target=\"_parent\"><img src=\"https://colab.research.google.com/assets/colab-badge.svg\" alt=\"Open In Colab\"/></a>"
      ]
    },
    {
      "cell_type": "code",
      "metadata": {
        "id": "28xn2haW92g5",
        "outputId": "e634000a-daac-47e4-ebeb-8babcee1a1dd",
        "colab": {
          "base_uri": "https://localhost:8080/",
          "height": 34
        }
      },
      "source": [
        "def ejemplo7( n ):\n",
        "  count = 0\n",
        "  for i in range( n ) :\n",
        "    for j in range( 25 ) :\n",
        "      for k in range( n ):\n",
        "        count += 1\n",
        "  return count\n",
        "ejemplo7(4)\n",
        "#FUNCION T(n)= n+25n^2"
      ],
      "execution_count": 15,
      "outputs": [
        {
          "output_type": "execute_result",
          "data": {
            "text/plain": [
              "400"
            ]
          },
          "metadata": {
            "tags": []
          },
          "execution_count": 15
        }
      ]
    },
    {
      "cell_type": "code",
      "metadata": {
        "id": "zYWXkXSD94eN",
        "outputId": "a7733785-ca69-4263-ae88-05331b4c185e",
        "colab": {
          "base_uri": "https://localhost:8080/",
          "height": 34
        }
      },
      "source": [
        "def ejemplo7_2( n ):\n",
        "  count = 1\n",
        "  for i in range( n ) :\n",
        "    for j in range( 25 ) :\n",
        "      for k in range( n ):\n",
        "        count += 1\n",
        "      for k in range( n ):\n",
        "        count += 1\n",
        "  return count \n",
        "  # Funcion T(n)= 1 + 25n^2 +25n^2\n",
        "  #los dos primeros for afectan de igual manera a los dos for de abajo \n",
        "ejemplo7_2(3)"
      ],
      "execution_count": 18,
      "outputs": [
        {
          "output_type": "execute_result",
          "data": {
            "text/plain": [
              "451"
            ]
          },
          "metadata": {
            "tags": []
          },
          "execution_count": 18
        }
      ]
    },
    {
      "cell_type": "code",
      "metadata": {
        "id": "e3gjQwru97fv",
        "outputId": "2fad3c86-d42b-4d49-fd62-3e29a1a13524",
        "colab": {
          "base_uri": "https://localhost:8080/",
          "height": 34
        }
      },
      "source": [
        "def ejemplo8( numeros ): # numeros es una lista (arreglo en c)\n",
        "  total = 0\n",
        "  for index in range(len(numeros)):\n",
        "    total = numeros[index]\n",
        "  return total\n",
        "#funcion T(n)=1+n\n",
        "# botacion big O 0(n)=n"
      ],
      "execution_count": 24,
      "outputs": [
        {
          "output_type": "execute_result",
          "data": {
            "text/plain": [
              "10"
            ]
          },
          "metadata": {
            "tags": []
          },
          "execution_count": 24
        }
      ]
    },
    {
      "cell_type": "code",
      "metadata": {
        "id": "CVQAPfSG8Sp4",
        "outputId": "943018d6-3e72-41bd-b75b-e30675b80251",
        "colab": {
          "base_uri": "https://localhost:8080/",
          "height": 34
        }
      },
      "source": [
        "def ejemplo9(  n ):\n",
        "  contador = 0\n",
        "  basura = 0\n",
        "  for i in range( n ) :\n",
        "    contador += 1\n",
        "  for j in range( n ) :\n",
        "    contador += 1\n",
        "  basura = basura + contador\n",
        "  return contador\n",
        "# funcion 3 + 2n\n",
        "\n",
        "print(ejemplo9( 5 ))"
      ],
      "execution_count": 7,
      "outputs": [
        {
          "output_type": "stream",
          "text": [
            "10\n"
          ],
          "name": "stdout"
        }
      ]
    },
    {
      "cell_type": "code",
      "metadata": {
        "id": "5miDp-qU9XYj",
        "outputId": "e8ccfc25-9b46-47b4-8483-5dabdb505c6c",
        "colab": {
          "base_uri": "https://localhost:8080/",
          "height": 34
        }
      },
      "source": [
        "def ejemplo10( n ):\n",
        "  count = 0\n",
        "  for i in range( n ) :\n",
        "    for j in range( i+1 ) :\n",
        "      count += 1\n",
        "  return count\n",
        "ejemplo10(5)\n",
        "#funcion"
      ],
      "execution_count": 11,
      "outputs": [
        {
          "output_type": "execute_result",
          "data": {
            "text/plain": [
              "15"
            ]
          },
          "metadata": {
            "tags": []
          },
          "execution_count": 11
        }
      ]
    }
  ]
}