{
  "nbformat": 4,
  "nbformat_minor": 0,
  "metadata": {
    "colab": {
      "name": "26 Octubre.ipynb",
      "provenance": [],
      "authorship_tag": "ABX9TyNjTS16/bd34llkTZLRk5UJ",
      "include_colab_link": true
    },
    "kernelspec": {
      "name": "python3",
      "display_name": "Python 3"
    }
  },
  "cells": [
    {
      "cell_type": "markdown",
      "metadata": {
        "id": "view-in-github",
        "colab_type": "text"
      },
      "source": [
        "<a href=\"https://colab.research.google.com/github/diegoalmanzaxd/daa_2021_1/blob/master/26_Octubre.ipynb\" target=\"_parent\"><img src=\"https://colab.research.google.com/assets/colab-badge.svg\" alt=\"Open In Colab\"/></a>"
      ]
    },
    {
      "cell_type": "code",
      "metadata": {
        "id": "47ARhT22mkGW",
        "outputId": "3896b939-1870-456d-ee5b-8204fc46b02c",
        "colab": {
          "base_uri": "https://localhost:8080/",
          "height": 34
        }
      },
      "source": [
        "def ejemplo11( n ):\n",
        "    count = 0\n",
        "    i = n\n",
        "    while i > 1 :\n",
        "        count += 1\n",
        "        i = i // 2 \n",
        "    return count\n",
        "print(ejemplo11(16))\n",
        "# T(n) =  2 + (2 Log 2 n)"
      ],
      "execution_count": 8,
      "outputs": [
        {
          "output_type": "stream",
          "text": [
            "4\n"
          ],
          "name": "stdout"
        }
      ]
    },
    {
      "cell_type": "code",
      "metadata": {
        "id": "1RXi6wrvmp1x",
        "outputId": "c37e074f-afcf-4c34-ebd9-a95a4b6e0aeb",
        "colab": {
          "base_uri": "https://localhost:8080/",
          "height": 34
        }
      },
      "source": [
        "def ejemplo12( n ):\n",
        "    contador = 0\n",
        "    for x in range(n):\n",
        "        contador += ejemplo11(x)\n",
        "    return contador\n",
        "ejemplo12(10)"
      ],
      "execution_count": 4,
      "outputs": [
        {
          "output_type": "execute_result",
          "data": {
            "text/plain": [
              "16"
            ]
          },
          "metadata": {
            "tags": []
          },
          "execution_count": 4
        }
      ]
    },
    {
      "cell_type": "code",
      "metadata": {
        "id": "xWg1-lY0mqO9",
        "outputId": "a4bfda18-f0b9-4a06-d8ac-a2eff5ac4733",
        "colab": {
          "base_uri": "https://localhost:8080/",
          "height": 34
        }
      },
      "source": [
        "def ejemplo12_bis( n=5 ):\n",
        "    contador = 0\n",
        "    contador = contador + ejemplo11(0) # 0\n",
        "    contador = contador + ejemplo11(1) # 0\n",
        "    contador = contador + ejemplo11(2) # 1\n",
        "    contador = contador + ejemplo11(3) # 1\n",
        "    contador = contador + ejemplo11(4) # 2\n",
        "    return contador\n",
        "ejemplo12_bis( 5 )"
      ],
      "execution_count": 3,
      "outputs": [
        {
          "output_type": "execute_result",
          "data": {
            "text/plain": [
              "4"
            ]
          },
          "metadata": {
            "tags": []
          },
          "execution_count": 3
        }
      ]
    },
    {
      "cell_type": "code",
      "metadata": {
        "id": "xg2WIaFxmqme",
        "outputId": "da8c7b82-fd32-4103-e492-742eb85a712a",
        "colab": {
          "base_uri": "https://localhost:8080/",
          "height": 85
        }
      },
      "source": [
        "def ejemplo13( x ):\n",
        "    bandera = x\n",
        "    contador = 0\n",
        "    while( bandera >= 10):\n",
        "        print(f\" x = { bandera } \")\n",
        "        bandera /= 10\n",
        "        contador = contador + 1\n",
        "    print(contador)\n",
        "# T(x) = log10 x +1\n",
        "ejemplo13( 1000 )"
      ],
      "execution_count": 6,
      "outputs": [
        {
          "output_type": "stream",
          "text": [
            " x = 1000 \n",
            " x = 100.0 \n",
            " x = 10.0 \n",
            "3\n"
          ],
          "name": "stdout"
        }
      ]
    },
    {
      "cell_type": "code",
      "metadata": {
        "id": "WVybKQAomrbW"
      },
      "source": [
        ""
      ],
      "execution_count": null,
      "outputs": []
    }
  ]
}