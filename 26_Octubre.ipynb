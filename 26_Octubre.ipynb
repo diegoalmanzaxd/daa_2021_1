{
  "nbformat": 4,
  "nbformat_minor": 0,
  "metadata": {
    "colab": {
      "name": "26 Octubre.ipynb",
      "provenance": [],
      "authorship_tag": "ABX9TyNUrKlu6LvfSYDfn4hSqC43",
      "include_colab_link": true
    },
    "kernelspec": {
      "name": "python3",
      "display_name": "Python 3"
    }
  },
  "cells": [
    {
      "cell_type": "markdown",
      "metadata": {
        "id": "view-in-github",
        "colab_type": "text"
      },
      "source": [
        "<a href=\"https://colab.research.google.com/github/diegoalmanzaxd/daa_2021_1/blob/master/26_Octubre.ipynb\" target=\"_parent\"><img src=\"https://colab.research.google.com/assets/colab-badge.svg\" alt=\"Open In Colab\"/></a>"
      ]
    },
    {
      "cell_type": "code",
      "metadata": {
        "id": "47ARhT22mkGW",
        "outputId": "66a96425-d264-4ccf-c59c-c97884044575",
        "colab": {
          "base_uri": "https://localhost:8080/",
          "height": 34
        }
      },
      "source": [
        "def ejemplo11( n ):\n",
        "  count = 0\n",
        "  i = n\n",
        "  while i > 1 :\n",
        "    count += 1\n",
        "    i = i // 2 \n",
        "  return count\n",
        "print(ejemplo11(16))\n",
        "# T(n) =  2 + (2 Log 2 n)"
      ],
      "execution_count": 13,
      "outputs": [
        {
          "output_type": "stream",
          "text": [
            "4\n"
          ],
          "name": "stdout"
        }
      ]
    },
    {
      "cell_type": "code",
      "metadata": {
        "id": "1RXi6wrvmp1x",
        "outputId": "83062095-40eb-4c43-b678-161bda009fd3",
        "colab": {
          "base_uri": "https://localhost:8080/",
          "height": 34
        }
      },
      "source": [
        "def ejemplo12( n ):\n",
        "  contador = 0\n",
        "  for x in range(n):\n",
        "    contador += ejemplo11(x)\n",
        "  return contador\n",
        "ejemplo12(10)"
      ],
      "execution_count": 12,
      "outputs": [
        {
          "output_type": "execute_result",
          "data": {
            "text/plain": [
              "16"
            ]
          },
          "metadata": {
            "tags": []
          },
          "execution_count": 12
        }
      ]
    },
    {
      "cell_type": "code",
      "metadata": {
        "id": "xWg1-lY0mqO9",
        "outputId": "054a5a4b-e3b4-4bbc-ecd6-621bd0da50dc",
        "colab": {
          "base_uri": "https://localhost:8080/",
          "height": 34
        }
      },
      "source": [
        "def ejemplo12_bis( n=5 ):\n",
        "  contador = 0\n",
        "  contador = contador + ejemplo11(0) # 0\n",
        "  contador = contador + ejemplo11(1) # 0\n",
        "  contador = contador + ejemplo11(2) # 1\n",
        "  contador = contador + ejemplo11(3) # 1\n",
        "  contador = contador + ejemplo11(4) # 2\n",
        "  return contador\n",
        "ejemplo12_bis( 5 )"
      ],
      "execution_count": 11,
      "outputs": [
        {
          "output_type": "execute_result",
          "data": {
            "text/plain": [
              "4"
            ]
          },
          "metadata": {
            "tags": []
          },
          "execution_count": 11
        }
      ]
    },
    {
      "cell_type": "code",
      "metadata": {
        "id": "xg2WIaFxmqme",
        "outputId": "36d11a53-beb6-4f41-cfc5-6de42eb2a3a8",
        "colab": {
          "base_uri": "https://localhost:8080/",
          "height": 85
        }
      },
      "source": [
        "def ejemplo13( x ):\n",
        "  bandera = x\n",
        "  contador = 0\n",
        "  while( bandera >= 10):\n",
        "    print(f\" x = { bandera } \")\n",
        "    bandera /= 10\n",
        "    contador = contador + 1\n",
        "  print(contador)\n",
        "# T(x) = log10 x +1\n",
        "ejemplo13( 1000 )"
      ],
      "execution_count": 10,
      "outputs": [
        {
          "output_type": "stream",
          "text": [
            " x = 1000 \n",
            " x = 100.0 \n",
            " x = 10.0 \n",
            "3\n"
          ],
          "name": "stdout"
        }
      ]
    },
    {
      "cell_type": "code",
      "metadata": {
        "id": "WVybKQAomrbW",
        "outputId": "f2621952-11a5-4bc7-f54f-b380d01a9529",
        "colab": {
          "base_uri": "https://localhost:8080/",
          "height": 34
        }
      },
      "source": [
        "def ejemplo14( n ):\n",
        "  y = n\n",
        "  z = n\n",
        "  contador = 0\n",
        "  while y >= 3: #3\n",
        "    y /= 3  # 1\n",
        "    contador += 1  # cont =3\n",
        "    \n",
        "  while z >= 3: #27\n",
        "    z /= 3\n",
        "    contador += 1\n",
        "  return contador\n",
        "print(ejemplo14( 27 ))"
      ],
      "execution_count": 16,
      "outputs": [
        {
          "output_type": "stream",
          "text": [
            "6\n"
          ],
          "name": "stdout"
        }
      ]
    },
    {
      "cell_type": "code",
      "metadata": {
        "id": "HqS9vGWZo12N",
        "outputId": "cf36f155-8bcf-43ae-f5da-334146b61a65",
        "colab": {
          "base_uri": "https://localhost:8080/",
          "height": 34
        }
      },
      "source": [
        "def ejemplo15( n ): \n",
        "  contador = 0\n",
        "  for i in range( n ) :\n",
        "    for j in range( n ) :\n",
        "      contador += 1\n",
        "            \n",
        "  while n > 1 :\n",
        "    contador += 1\n",
        "    n /= 2\n",
        "  return contador\n",
        "\n",
        "print(ejemplo15(10))"
      ],
      "execution_count": 18,
      "outputs": [
        {
          "output_type": "stream",
          "text": [
            "104\n"
          ],
          "name": "stdout"
        }
      ]
    }
  ]
}