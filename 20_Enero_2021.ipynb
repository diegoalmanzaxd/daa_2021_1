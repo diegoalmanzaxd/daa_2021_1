{
  "nbformat": 4,
  "nbformat_minor": 0,
  "metadata": {
    "colab": {
      "name": "20 Enero 2021.ipynb",
      "provenance": [],
      "authorship_tag": "ABX9TyOkbTx3tVrzXHPLJ78jGdlS",
      "include_colab_link": true
    },
    "kernelspec": {
      "name": "python3",
      "display_name": "Python 3"
    }
  },
  "cells": [
    {
      "cell_type": "markdown",
      "metadata": {
        "id": "view-in-github",
        "colab_type": "text"
      },
      "source": [
        "<a href=\"https://colab.research.google.com/github/diegoalmanzaxd/daa_2021_1/blob/master/20_Enero_2021.ipynb\" target=\"_parent\"><img src=\"https://colab.research.google.com/assets/colab-badge.svg\" alt=\"Open In Colab\"/></a>"
      ]
    },
    {
      "cell_type": "code",
      "metadata": {
        "id": "Nv2IIJPcq-Vy"
      },
      "source": [
        "class NodoArbol:\r\n",
        "  def __init__(self,value,left=None,rigth=None):\r\n",
        "    self.data=value\r\n",
        "    self.left=left\r\n",
        "    self.rigth=rigth"
      ],
      "execution_count": 4,
      "outputs": []
    },
    {
      "cell_type": "markdown",
      "metadata": {
        "id": "Q15TiBNKrxwl"
      },
      "source": [
        "Arbol Binario de Busqueda\r\n",
        "\r\n",
        "Los nodos a la izq de la raiz son menores a la raiz y los nodos a la derecha son mayores que la raiz. Pueden ser recorridos en: pre-orden, in-orden y post-orden"
      ]
    },
    {
      "cell_type": "code",
      "metadata": {
        "id": "nmcxHAjerw54"
      },
      "source": [
        "class BinarySearchTree:\r\n",
        "  def __init__(self):\r\n",
        "    self.__root=None\r\n",
        "  def insert(self,value):\r\n",
        "    if self.__root==None:\r\n",
        "      self.__root=NodoArbol(value,None,None)\r\n",
        "    else:\r\n",
        "      self.__insert_nodo__(self.__root,value)\r\n",
        "  \r\n",
        "  def __insert_nodo__(self,nodo,value):\r\n",
        "    if nodo.data==value:\r\n",
        "      pass\r\n",
        "    if value<nodo.data:#si es verdadero va a la IZQ\r\n",
        "      if nodo.left==None:#si hay espacio en la izq, ahi va\r\n",
        "        nodo.left=NodoArbol(value,None,None)#insertamos el nodo\r\n",
        "      else:\r\n",
        "        self.__insert_nodo__(nodo.left,value) #buscar el sub arbol izq\r\n",
        "    elif value>nodo.data:\r\n",
        "      if nodo.rigth==None:\r\n",
        "        nodo.rigth=NodoArbol(value,None,None)\r\n",
        "      else:\r\n",
        "        self.__insert_nodo__(nodo.rigth,value)\r\n",
        "  def buscar(self,value):\r\n",
        "    if self.__root==None:\r\n",
        "      return False\r\n",
        "    else:\r\n",
        "      return self.__busca_nodo(self.__root,value)\r\n",
        "  def __busca_nodo(self,nodo,value):\r\n",
        "    if nodo==None:\r\n",
        "      return None\r\n",
        "    elif nodo.data==value:\r\n",
        "      return nodo.data\r\n",
        "    elif value<nodo.data:\r\n",
        "      return self.__busca_nodo(nodo.left,value)\r\n",
        "    else:\r\n",
        "      return self.__busca_nodo(nodo.rigth,value)\r\n",
        "  def transversal(self,format=\"inorden\"):\r\n",
        "    if format==\"inorden\":\r\n",
        "      self.__recorrido_in(self.__root)\r\n",
        "    elif format==\"preorden\":\r\n",
        "      self.__recorrido_pre(self.__root)\r\n",
        "    elif format==\"posorden\":\r\n",
        "      self.__recorrido_pos(self.__root)\r\n",
        "    else:\r\n",
        "      print(\"Formato de corrido no valido\")\r\n",
        "  def __recorrido_pre(self,nodo):\r\n",
        "    if nodo!=None:\r\n",
        "      print(nodo.data)\r\n",
        "      self.__recorrido_pre(nodo.left)\r\n",
        "      self.__recorrido_pre(nodo.rigth)\r\n",
        "  def __recorrido_in(self,nodo):\r\n",
        "    if nodo!=None:\r\n",
        "      self.__recorrido_in(nodo.left)\r\n",
        "      print(nodo.data)\r\n",
        "      self.__recorrido_in(nodo.rigth)\r\n",
        "  def __recorrido_pos(self,nodo):\r\n",
        "    if nodo!=None:\r\n",
        "      self.__recorrido_pos(nodo.left)\r\n",
        "      self.__recorrido_pos(nodo.rigth)\r\n",
        "      print(nodo.data)"
      ],
      "execution_count": 18,
      "outputs": []
    },
    {
      "cell_type": "code",
      "metadata": {
        "colab": {
          "base_uri": "https://localhost:8080/"
        },
        "id": "xoB0COULsFRd",
        "outputId": "13fb4aae-0406-4adb-e3f9-cc1331fa1cfd"
      },
      "source": [
        "bst=BinarySearchTree()\r\n",
        "bst.insert(50)\r\n",
        "bst.insert(30)\r\n",
        "bst.insert(20)\r\n",
        "rest=bst.buscar(20)\r\n",
        "print(\"Dato:\",str(rest))\r\n",
        "print(bst.buscar(40))\r\n",
        "bst.transversal(\"preorden\")\r\n",
        "print(\"---------------------------------------------\")\r\n",
        "bst.transversal(\"inorden\")\r\n",
        "print(\"---------------------------------------------\")\r\n",
        "bst.transversal(\"posorden\")"
      ],
      "execution_count": 20,
      "outputs": [
        {
          "output_type": "stream",
          "text": [
            "Dato: 20\n",
            "None\n",
            "50\n",
            "30\n",
            "20\n",
            "---------------------------------------------\n",
            "20\n",
            "30\n",
            "50\n",
            "---------------------------------------------\n",
            "20\n",
            "30\n",
            "50\n"
          ],
          "name": "stdout"
        }
      ]
    }
  ]
}