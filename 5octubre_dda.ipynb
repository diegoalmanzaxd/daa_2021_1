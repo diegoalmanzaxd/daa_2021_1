{
  "nbformat": 4,
  "nbformat_minor": 0,
  "metadata": {
    "colab": {
      "name": "5octubre_dda.ipynb",
      "provenance": [],
      "authorship_tag": "ABX9TyOA7IeCuEgY8L7/LSiSgMF8",
      "include_colab_link": true
    },
    "kernelspec": {
      "name": "python3",
      "display_name": "Python 3"
    }
  },
  "cells": [
    {
      "cell_type": "markdown",
      "metadata": {
        "id": "view-in-github",
        "colab_type": "text"
      },
      "source": [
        "<a href=\"https://colab.research.google.com/github/diegoalmanzaxd/daa_2021_1/blob/master/5octubre_dda.ipynb\" target=\"_parent\"><img src=\"https://colab.research.google.com/assets/colab-badge.svg\" alt=\"Open In Colab\"/></a>"
      ]
    },
    {
      "cell_type": "markdown",
      "metadata": {
        "id": "FByn4IwuAAbw"
      },
      "source": [
        "# Estructura de datos pila (stack)\n",
        "-Last in First out (FIFO)\n",
        "-De tipo lineal\n",
        "-Se pueden obtener e ingresar datos desde\n",
        "-Push agrega\n",
        "-Pop elimina\n",
        "\n",
        "## Operaciones de las pilas\n",
        "1. is_empty (regresa true o false)\n",
        "2. get_top (regresa el elemento en el tope SIN SACARLO)\n",
        "3. pop (saca el elemento del tope y lo regresa)\n",
        "5. push(mete un elemento en el tope)\n",
        "6. get_length (regresa el número de elementos de la lista)\n",
        "\n"
      ]
    },
    {
      "cell_type": "code",
      "metadata": {
        "id": "JQ0iGwAx_BpQ"
      },
      "source": [
        "class Stack:\n",
        "    def __init__(self):\n",
        "        self.__datos=[]\n",
        "\n",
        "    def is_empty(self):\n",
        "        return len(self.__datos)==0\n",
        "\n",
        "    def get_top (self):\n",
        "      return self.__datos[-1]\n",
        "\n",
        "    def pop(self):\n",
        "        return self.__datos.pop()\n",
        "    \n",
        "    def push(self,valor):\n",
        "        self.__datos.append(valor)\n",
        "\n",
        "    def get_lenght(self):\n",
        "        return len(self.__datos)\n",
        "    \n",
        "    def to_string(self):\n",
        "      print(\"|------------------|\")\n",
        "      for j in self.__datos[-1::-1]:\n",
        "        print(j)\n",
        "      print(\"|------------------|\\n\")"
      ],
      "execution_count": null,
      "outputs": []
    },
    {
      "cell_type": "markdown",
      "metadata": {
        "id": "3Ybtqt8KJfKi"
      },
      "source": [
        "# ejemplos de aplicación de pilas\n",
        "x= 4 + 5 + 6 +3\n",
        "x= 4 + (5 + 6) +3\n",
        "x= 4 + 5 + 6) +3\n",
        "if (a==b) {System.out.println(b)\n",
        "\n",
        "# Reglas\n",
        "### '('    ---> push('@')\n",
        "### ')'    ---> pop()\n",
        "Si al final del recorrido la pila está vacía, entonces la cadena es correcta.\n",
        "Si un pop desencadena en querer sacar un elemento de la pila vacía significa que la cadena no está balanceada."
      ]
    },
    {
      "cell_type": "markdown",
      "metadata": {
        "id": "9H50x04XNUdY"
      },
      "source": [
        "# Tarea\n",
        "Hacer un programa que valide el balanceo de '()' , '[]' , '{}'\n",
        "en programas de lenguaje C y Java tomando como base el código de la clase"
      ]
    },
    {
      "cell_type": "code",
      "metadata": {
        "id": "9Flab3WmNIMu"
      },
      "source": [
        ""
      ],
      "execution_count": null,
      "outputs": []
    }
  ]
}