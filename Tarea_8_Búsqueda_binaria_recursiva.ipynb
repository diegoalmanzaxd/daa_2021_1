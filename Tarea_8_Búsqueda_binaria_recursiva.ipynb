{
  "nbformat": 4,
  "nbformat_minor": 0,
  "metadata": {
    "colab": {
      "name": "Tarea 8.  Búsqueda binaria recursiva.ipynb",
      "provenance": [],
      "authorship_tag": "ABX9TyOdCDNBEwqI5me3b+qKacMe",
      "include_colab_link": true
    },
    "kernelspec": {
      "name": "python3",
      "display_name": "Python 3"
    }
  },
  "cells": [
    {
      "cell_type": "markdown",
      "metadata": {
        "id": "view-in-github",
        "colab_type": "text"
      },
      "source": [
        "<a href=\"https://colab.research.google.com/github/diegoalmanzaxd/daa_2021_1/blob/master/Tarea_8_B%C3%BAsqueda_binaria_recursiva.ipynb\" target=\"_parent\"><img src=\"https://colab.research.google.com/assets/colab-badge.svg\" alt=\"Open In Colab\"/></a>"
      ]
    },
    {
      "cell_type": "code",
      "metadata": {
        "id": "oOp8dm3khqke"
      },
      "source": [
        "def busq_bin_rec(ide,arreglo,iz,der):\n",
        "    if iz>der:\n",
        "        print(\"El alumno no existe en la base de datos.\")\n",
        "        return 0\n",
        "    medio=(iz+der)//2\n",
        "    if ide==arreglo[medio]['id']:\n",
        "        print(arreglo[medio]['nombre'],\"estudia la carrera\",arreglo[medio]['carrera'],\"y tiene un promedio de\",arreglo[medio]['promedio'])\n",
        "    if ide<arreglo[medio]['id']:\n",
        "        busq_bin_rec(ide,arreglo,iz,medio-1)\n",
        "    if ide>arreglo[medio]['id']:\n",
        "        busq_bin_rec(ide,arreglo,iz+1,der)"
      ],
      "execution_count": 4,
      "outputs": []
    },
    {
      "cell_type": "code",
      "metadata": {
        "id": "oRRTPmlfhvUV"
      },
      "source": [
        "alumno1={'id':2, 'nombre':\"Juan\" , 'carrera':\"ICO\", 'promedio':7.67}\n",
        "alumno2={'id':4, 'nombre':\"Rocio\" , 'carrera':\"ICI\", 'promedio':8.67}\n",
        "alumno3={'id':5, 'nombre':\"Diego\" , 'carrera':\"DER\", 'promedio':8.98}\n",
        "alumno4={'id':7, 'nombre':\"May\" , 'carrera':\"ICI\", 'promedio':9.87}\n",
        "alumno5={'id':9, 'nombre':\"Rob\" , 'carrera':\"IME\", 'promedio':10.00}\n",
        "alumno6={'id':10, 'nombre':\"Santi\" , 'carrera':\"ICO\", 'promedio':5.37}\n",
        "alumno7={'id':14, 'nombre':\"Moy\" , 'carrera':\"IME\", 'promedio':6.85}\n",
        "alumno8={'id':16, 'nombre':\"Diana\" , 'carrera':\"DER\", 'promedio':9.99}\n",
        "alumno9={'id':19, 'nombre':\"Zoila\" , 'carrera':\"ICO\", 'promedio':8.22}\n",
        "alumno10={'id':22, 'nombre':\"Armando\" , 'carrera':\"ICO\", 'promedio':7.32}\n",
        "bd = []\n",
        "bd.append(alumno1)\n",
        "bd.append(alumno2)\n",
        "bd.append(alumno3)\n",
        "bd.append(alumno4)\n",
        "bd.append(alumno5)\n",
        "bd.append(alumno6)\n",
        "bd.append(alumno7)\n",
        "bd.append(alumno8)\n",
        "bd.append(alumno9)\n",
        "bd.append(alumno10)"
      ],
      "execution_count": 5,
      "outputs": []
    },
    {
      "cell_type": "code",
      "metadata": {
        "colab": {
          "base_uri": "https://localhost:8080/"
        },
        "id": "2EJFXbmdiA9p",
        "outputId": "6ebd84cc-fb46-4855-b168-ad2140e35c11"
      },
      "source": [
        "ide=int(input(\"¿Dame el id del alumno a buscar?: \"))\n",
        "busq_bin_rec(ide,bd,0,len(bd)-1)"
      ],
      "execution_count": 7,
      "outputs": [
        {
          "output_type": "stream",
          "text": [
            "¿Dame el id del alumno a buscar?: 2\n",
            "Juan estudia la carrera ICO y tiene un promedio de 7.67\n"
          ],
          "name": "stdout"
        }
      ]
    }
  ]
}