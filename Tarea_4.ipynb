{
  "nbformat": 4,
  "nbformat_minor": 0,
  "metadata": {
    "colab": {
      "name": "Tarea 4.ipynb",
      "provenance": [],
      "authorship_tag": "ABX9TyN1vuqZUyxnYvwOUMs9+Qkh",
      "include_colab_link": true
    },
    "kernelspec": {
      "name": "python3",
      "display_name": "Python 3"
    }
  },
  "cells": [
    {
      "cell_type": "markdown",
      "metadata": {
        "id": "view-in-github",
        "colab_type": "text"
      },
      "source": [
        "<a href=\"https://colab.research.google.com/github/diegoalmanzaxd/daa_2021_1/blob/master/Tarea_4.ipynb\" target=\"_parent\"><img src=\"https://colab.research.google.com/assets/colab-badge.svg\" alt=\"Open In Colab\"/></a>"
      ]
    },
    {
      "cell_type": "code",
      "metadata": {
        "id": "ZIJaPMOa5WdK",
        "outputId": "1b6be7e0-145d-4f96-956b-2327bc857c82",
        "colab": {
          "base_uri": "https://localhost:8080/",
          "height": 595
        }
      },
      "source": [
        "def ejemplo4(n):\n",
        "  print(\"--------------------------------------------\")\n",
        "  count=0\n",
        "  i=n\n",
        "  print(\"primer nivel\")\n",
        "  while i>=1:\n",
        "    count+=1\n",
        "    i=i//2\n",
        "    print(\"segundo nivel\")\n",
        "  basura=3+2\n",
        "  return count\n",
        "def main():\n",
        "  print(ejemplo4(36))\n",
        "  print(ejemplo4(16))\n",
        "  print(ejemplo4(45))\n",
        "  print(ejemplo4(20))\n",
        "main()"
      ],
      "execution_count": 4,
      "outputs": [
        {
          "output_type": "stream",
          "text": [
            "--------------------------------------------\n",
            "primer nivel\n",
            "segundo nivel\n",
            "segundo nivel\n",
            "segundo nivel\n",
            "segundo nivel\n",
            "segundo nivel\n",
            "segundo nivel\n",
            "6\n",
            "--------------------------------------------\n",
            "primer nivel\n",
            "segundo nivel\n",
            "segundo nivel\n",
            "segundo nivel\n",
            "segundo nivel\n",
            "segundo nivel\n",
            "5\n",
            "--------------------------------------------\n",
            "primer nivel\n",
            "segundo nivel\n",
            "segundo nivel\n",
            "segundo nivel\n",
            "segundo nivel\n",
            "segundo nivel\n",
            "segundo nivel\n",
            "6\n",
            "--------------------------------------------\n",
            "primer nivel\n",
            "segundo nivel\n",
            "segundo nivel\n",
            "segundo nivel\n",
            "segundo nivel\n",
            "segundo nivel\n",
            "5\n"
          ],
          "name": "stdout"
        }
      ]
    }
  ]
}