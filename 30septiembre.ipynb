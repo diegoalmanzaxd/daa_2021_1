{
  "nbformat": 4,
  "nbformat_minor": 0,
  "metadata": {
    "colab": {
      "name": "30septiembre.ipynb",
      "provenance": [],
      "authorship_tag": "ABX9TyNvaJsp/c2K8lPjYq/rp2HG",
      "include_colab_link": true
    },
    "kernelspec": {
      "name": "python3",
      "display_name": "Python 3"
    }
  },
  "cells": [
    {
      "cell_type": "markdown",
      "metadata": {
        "id": "view-in-github",
        "colab_type": "text"
      },
      "source": [
        "<a href=\"https://colab.research.google.com/github/diegoalmanzaxd/daa_2021_1/blob/master/30septiembre.ipynb\" target=\"_parent\"><img src=\"https://colab.research.google.com/assets/colab-badge.svg\" alt=\"Open In Colab\"/></a>"
      ]
    },
    {
      "cell_type": "markdown",
      "metadata": {
        "id": "XpY7xbqcQJJr"
      },
      "source": [
        "# Palíndromos \n",
        "Es una palabra que se lee, de igual forma de un sentido y de sentido inverso, ejemplos:\n",
        "1. sugus\n",
        "2. oso\n",
        "3. 10101\n",
        "4. 10:01\n",
        "etc.\n",
        "\n",
        "### Planteamiento del problema\n",
        "Se desea encontrar todos los palíndromos que existen en la franja horaria de un día completo, tomando como horario inicial las 00:00 y como horario final las 23:59\n",
        "El algoritmo debe mostrar en pantalla todos los palíndromos existentes en ese rango, al final debe mostrar el conteo total de palíndromos existentes"
      ]
    },
    {
      "cell_type": "code",
      "metadata": {
        "id": "PUlqC1DzPpqt",
        "outputId": "89269704-07e8-4f47-cdab-3ce14ff2e90b",
        "colab": {
          "base_uri": "https://localhost:8080/",
          "height": 51
        }
      },
      "source": [
        "horas=[\"00\",\"01\",\"02\",\"03\",\"04\",\"05\",\"06\",\"07\",\"08\",\"09\",\"10\",\"11\",\"12\",\n",
        "      \"13\",\"14\",\"15\",\"16\",\"17\",\"18\",\"19\",\"20\",\"21\",\"22\",\"23\"]\n",
        "minutos=[\"00\",\"01\",\"02\",\"03\",\"04\",\"05\",\"06\",\"07\",\"08\",\"09\",\n",
        "         \"10\",\"11\",\"12\",\"13\",\"14\",\"15\",\"16\",\"17\",\"18\",\"19\",\n",
        "         \"20\",\"21\",\"22\",\"23\",\"24\",\"25\",\"26\",\"27\",\"28\",\"29\",\n",
        "         \"30\",\"31\",\"32\",\"33\",\"34\",\"35\",\"36\",\"37\",\"38\",\"39\",\n",
        "         \"40\",\"41\",\"42\",\"43\",\"44\",\"45\",\"46\",\"47\",\"48\",\"49\",\n",
        "         \"50\",\"51\",\"52\",\"53\",\"54\",\"55\",\"56\",\"57\",\"58\",\"59\"]\n",
        "arreglo=[]\n",
        "palindromos=[]\n",
        "cont=0\n",
        "for i in range(len(horas)):\n",
        "  for j in range(len(minutos)):\n",
        "    arreglo.append(horas[i]+\":\"+minutos[j])\n",
        "for i in range(len(arreglo)):\n",
        "    aux=arreglo[i][::-1]\n",
        "    if aux==arreglo[i]:\n",
        "      palindromos.append(aux)\n",
        "      cont= cont+1\n",
        "print(\"La cantidad de palíndromos son: \",cont)\n",
        "print(\"Los palindromos son: \",palindromos)\n",
        "\n"
      ],
      "execution_count": 15,
      "outputs": [
        {
          "output_type": "stream",
          "text": [
            "La cantidad de palíndromos son:  16\n",
            "Los palindromos son:  ['00:00', '01:10', '02:20', '03:30', '04:40', '05:50', '10:01', '11:11', '12:21', '13:31', '14:41', '15:51', '20:02', '21:12', '22:22', '23:32']\n"
          ],
          "name": "stdout"
        }
      ]
    }
  ]
}