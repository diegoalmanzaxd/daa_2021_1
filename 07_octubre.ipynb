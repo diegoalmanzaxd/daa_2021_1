{
  "nbformat": 4,
  "nbformat_minor": 0,
  "metadata": {
    "colab": {
      "name": "07 octubre.ipynb",
      "provenance": [],
      "authorship_tag": "ABX9TyOCWa+j+T3+G/Y8zhlnmyx9",
      "include_colab_link": true
    },
    "kernelspec": {
      "name": "python3",
      "display_name": "Python 3"
    }
  },
  "cells": [
    {
      "cell_type": "markdown",
      "metadata": {
        "id": "view-in-github",
        "colab_type": "text"
      },
      "source": [
        "<a href=\"https://colab.research.google.com/github/diegoalmanzaxd/daa_2021_1/blob/master/07_octubre.ipynb\" target=\"_parent\"><img src=\"https://colab.research.google.com/assets/colab-badge.svg\" alt=\"Open In Colab\"/></a>"
      ]
    },
    {
      "cell_type": "markdown",
      "metadata": {
        "id": "GIEFWNycSxSl"
      },
      "source": [
        "#Búsqueda Líneal\n",
        "Dado un conjunto de datos no ordenados, la busqueda lineal consiste en recorrer el conjunto de datos desde el inicio al final, moviéndose de uno por uno hasta encontrar el elemento o hasta llegar al final del conjunto\n",
        "\n",
        "datos = [ 4,18,47,2,34,14,78,12,48,21,31,19,1,3,5]\n",
        "\n",
        "#Búsqueda Binaria\n",
        "Funciona sobre un conjunto de datos lineal ordenado.\n",
        "Consiste en dividir el conjunto en mitades y buscar sobre esa mitad, si el elemento buscado no está en la mitad, preguntas si el elemento está a la derecha o a la izquierda, haces la lista igual a la mitad correspondiente y repites el proceso\n",
        "L= [1, 2, 3, 4, 5, 12, 14, 18, 19, 21, 31, 34, 47, 48, 78]\n",
        "\n",
        "DER=longuitud(L)-1\n",
        "\n",
        "IZQ=0\n",
        "\n",
        "MID apuntará a la mitad del segmento de la búsqueda\n",
        "buscado= valor a buscar en la lista\n",
        "\n",
        "1.-Hacer DER=longuitud(L)-1\n",
        "\n",
        "2.-Hacer IZQ=0\n",
        "\n",
        "3.-Si IZQ>DER significa que hay un error en los datos\n",
        "\n",
        "4.-Calcular MID= int((IZQ+DER)/2)\n",
        "\n",
        "5.- Mientras L[MID]!= buscado hacer\n",
        "\n",
        "6.preguntar L[MID]>buscado\n",
        "          \n",
        "          -hacer DER=MID\n",
        "      - de lo contrario\n",
        "          -hacer IZQ=MID\n",
        "      -preguntar (DER-IZQ)%2\n",
        "        -MID=(IZQ+((DER-IZQ)/2))+1)\n",
        "      -de lo contrario\n",
        "        -(IZQ+((DER-IZQ)/2))\n",
        "\n",
        "7.return MID\n",
        "\n"
      ]
    },
    {
      "cell_type": "code",
      "metadata": {
        "id": "FxrXjdxgSuVC",
        "outputId": "d61d6d16-7db5-40db-c1be-c4d2bdc6bc03",
        "colab": {
          "base_uri": "https://localhost:8080/"
        }
      },
      "source": [
        "\"\"\"\n",
        "Búsqueda líneal\n",
        "Regresa la posición del elemento 'buscado' si se encuentra dentro de la lista,\n",
        "regresa -1 si el elemento no existe\n",
        "\"\"\"\n",
        "def busq_lineal(L,buscado):\n",
        "  indice=-1\n",
        "  contador=0\n",
        "  for i in range(len(L)):\n",
        "    contador+=1\n",
        "    if L[i]==buscado:\n",
        "      indice=i\n",
        "      break\n",
        "  print(\"Número de comparaciones realizadas:\",contador)\n",
        "  return indice\n",
        "\n",
        "  \"\"\"\n",
        "  Búsqueda Binaria\n",
        "\n",
        "  \"\"\"\n",
        "def busqueda_binaria(L,buscado):\n",
        "  IZQ=0\n",
        "  DER=len(L)-1\n",
        "  MID=int(DER/2)\n",
        "  if (len(L) % 2) == 0:\n",
        "    MID=(DER/2)+1\n",
        "  else:\n",
        "    MID=DER//2\n",
        "  while (L[MID]!=buscado):\n",
        "    if L[MID]>buscado:\n",
        "      DER=MID\n",
        "    else:\n",
        "      IZQ=MID\n",
        "    MID=(IZQ+((DER-IZQ)//2))\n",
        "  return MID\n",
        "\n",
        "\n",
        "def main():\n",
        "    datos = [ 4,18,47,2,34,14,78,12,48,21,31,19,1,3,5]\n",
        "    dato=int(input(\"Qué valor deseas buscar?: \"))\n",
        "    resultado=busq_lineal(datos,dato)\n",
        "    print(\"Resultado:\",resultado)\n",
        "\n",
        "    \n",
        "    print(\"Busqueda lineal sobre una lista ordenada\")\n",
        "    datos.sort()\n",
        "    print(datos)\n",
        "    resultado=busq_lineal(datos,dato)\n",
        "    print(\"Resultado:\",resultado)\n",
        "\n",
        "    print(\"Búsqueda binaria\")\n",
        "    posicion=busqueda_binaria(datos,dato)\n",
        "    print(\"el elemento está en la posición:\",posicion)\n",
        "main()"
      ],
      "execution_count": 33,
      "outputs": [
        {
          "output_type": "stream",
          "text": [
            "Qué valor deseas buscar?: 14\n",
            "Número de comparaciones realizadas: 6\n",
            "Resultado: 5\n",
            "Busqueda lineal sobre una lista ordenada\n",
            "[1, 2, 3, 4, 5, 12, 14, 18, 19, 21, 31, 34, 47, 48, 78]\n",
            "Número de comparaciones realizadas: 7\n",
            "Resultado: 6\n",
            "Búsqueda binaria\n",
            "el elemento está en la posición: 6\n"
          ],
          "name": "stdout"
        }
      ]
    }
  ]
}