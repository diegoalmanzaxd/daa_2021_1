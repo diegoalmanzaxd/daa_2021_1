{
  "nbformat": 4,
  "nbformat_minor": 0,
  "metadata": {
    "colab": {
      "name": "2 de diciembre.ipynb",
      "provenance": [],
      "authorship_tag": "ABX9TyMQILkXVgBGaulWdoZiAcsc",
      "include_colab_link": true
    },
    "kernelspec": {
      "name": "python3",
      "display_name": "Python 3"
    }
  },
  "cells": [
    {
      "cell_type": "markdown",
      "metadata": {
        "id": "view-in-github",
        "colab_type": "text"
      },
      "source": [
        "<a href=\"https://colab.research.google.com/github/diegoalmanzaxd/daa_2021_1/blob/master/2_de_diciembre.ipynb\" target=\"_parent\"><img src=\"https://colab.research.google.com/assets/colab-badge.svg\" alt=\"Open In Colab\"/></a>"
      ]
    },
    {
      "cell_type": "code",
      "metadata": {
        "id": "4dZV73uRHyGK"
      },
      "source": [
        "def fnrecinfinita():\n",
        "  print(\"hola\")\n",
        "  fnrecinfinita()"
      ],
      "execution_count": 4,
      "outputs": []
    },
    {
      "cell_type": "code",
      "metadata": {
        "id": "2bpdNzkkLgnH"
      },
      "source": [
        "fnrecinfinita()"
      ],
      "execution_count": null,
      "outputs": []
    },
    {
      "cell_type": "code",
      "metadata": {
        "colab": {
          "base_uri": "https://localhost:8080/"
        },
        "id": "Vy3xZlivLjrt",
        "outputId": "4c045853-f17d-42e6-f821-f8bcb9d15503"
      },
      "source": [
        "def fnrec(x):\n",
        "  if x==0:\n",
        "    print(\"stop\")\n",
        "  else:\n",
        "    print(x)\n",
        "    fnrec(x-1)\n",
        "    \n",
        "\n",
        "\n",
        "def main():\n",
        "  print(\"inicio del programa\")\n",
        "  fnrec(5)\n",
        "  print(\"fin del programa\")\n",
        "main()"
      ],
      "execution_count": 7,
      "outputs": [
        {
          "output_type": "stream",
          "text": [
            "inicio del programa\n",
            "5\n",
            "4\n",
            "3\n",
            "2\n",
            "1\n",
            "stop\n",
            "fin del programa\n"
          ],
          "name": "stdout"
        }
      ]
    },
    {
      "cell_type": "code",
      "metadata": {
        "colab": {
          "base_uri": "https://localhost:8080/"
        },
        "id": "C2gHRfiwLoXT",
        "outputId": "800938ca-dda3-4c25-a20e-5976218419e5"
      },
      "source": [
        "def printrev(x):\n",
        "  if x>0:\n",
        "    printrev(x-1)\n",
        "    print(x)\n",
        "    \n",
        "    \n",
        "printrev(3)"
      ],
      "execution_count": 10,
      "outputs": [
        {
          "output_type": "stream",
          "text": [
            "1\n",
            "2\n",
            "3\n"
          ],
          "name": "stdout"
        }
      ]
    },
    {
      "cell_type": "code",
      "metadata": {
        "colab": {
          "base_uri": "https://localhost:8080/"
        },
        "id": "euMp7E1TLrlO",
        "outputId": "0f0732fa-8fe1-41ed-a164-cf9f1bbaf494"
      },
      "source": [
        "def fibonacci(n):\n",
        "  if n==1 or n==0:\n",
        "    return n\n",
        "  else:\n",
        "    return (fibonacci(n-1)+ fibonacci(n-2))\n",
        "\n",
        "print(fibonacci(8))"
      ],
      "execution_count": 12,
      "outputs": [
        {
          "output_type": "stream",
          "text": [
            "21\n"
          ],
          "name": "stdout"
        }
      ]
    }
  ]
}