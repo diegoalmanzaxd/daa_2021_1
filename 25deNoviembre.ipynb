{
  "nbformat": 4,
  "nbformat_minor": 0,
  "metadata": {
    "colab": {
      "name": "25deNoviembre.ipynb",
      "provenance": [],
      "authorship_tag": "ABX9TyOncaHiASysjv2GhpcHwzF+",
      "include_colab_link": true
    },
    "kernelspec": {
      "name": "python3",
      "display_name": "Python 3"
    }
  },
  "cells": [
    {
      "cell_type": "markdown",
      "metadata": {
        "id": "view-in-github",
        "colab_type": "text"
      },
      "source": [
        "<a href=\"https://colab.research.google.com/github/diegoalmanzaxd/daa_2021_1/blob/master/25deNoviembre.ipynb\" target=\"_parent\"><img src=\"https://colab.research.google.com/assets/colab-badge.svg\" alt=\"Open In Colab\"/></a>"
      ]
    },
    {
      "cell_type": "code",
      "metadata": {
        "colab": {
          "base_uri": "https://localhost:8080/"
        },
        "id": "YgDbYHDuPMmc",
        "outputId": "c60243de-2b17-4091-d179-109db21a74be"
      },
      "source": [
        "frase= \"\"\"El lema que anima a la Universidad Nacional, Por mi raza hablará el espíritu, revela la vocación humanística con la que fue concebida. El autor de esta célebre frase, José Vasconcelos, asumió la rectoría en 1920, en una época en que las esperanzas de la Revolución aún estaban vivas,\n",
        " había una gran fé en la Patria y el ánimo redentor se extendía en el ambiente.\"\"\"\n",
        "\n",
        "frase = frase.strip().replace(\"\\n\", \" \").replace(\",\",\" \").replace(\".\",\"\").lower().split(\" \")\n",
        "print (frase)\n",
        "frecuencias= {}\n",
        "for index in range (len(frase)):\n",
        "    if frase[index] in frecuencias: #'el' in frecuencias:\n",
        "        pass\n",
        "    else: \n",
        "        frecuencias[frase[index]] =  1\n",
        "\n",
        "        for pivote in range (index +1, len(frase),1):\n",
        "          # print (frase[index], \"Comparada contra: \", frase[ pivote ])\n",
        "          if frase [index] == frase[pivote]:\n",
        "              frecuencias[frase[index]] += 1\n",
        "\n",
        "print (frecuencias)"
      ],
      "execution_count": 11,
      "outputs": [
        {
          "output_type": "stream",
          "text": [
            "['el', 'lema', 'que', 'anima', 'a', 'la', 'universidad', 'nacional', '', 'por', 'mi', 'raza', 'hablará', 'el', 'espíritu', '', 'revela', 'la', 'vocación', 'humanística', 'con', 'la', 'que', 'fue', 'concebida', 'el', 'autor', 'de', 'esta', 'célebre', 'frase', '', 'josé', 'vasconcelos', '', 'asumió', 'la', 'rectoría', 'en', '1920', '', 'en', 'una', 'época', 'en', 'que', 'las', 'esperanzas', 'de', 'la', 'revolución', 'aún', 'estaban', 'vivas', '', '', 'había', 'una', 'gran', 'fé', 'en', 'la', 'patria', 'y', 'el', 'ánimo', 'redentor', 'se', 'extendía', 'en', 'el', 'ambiente']\n",
            "{'el': 5, 'lema': 1, 'que': 3, 'anima': 1, 'a': 1, 'la': 6, 'universidad': 1, 'nacional': 1, '': 7, 'por': 1, 'mi': 1, 'raza': 1, 'hablará': 1, 'espíritu': 1, 'revela': 1, 'vocación': 1, 'humanística': 1, 'con': 1, 'fue': 1, 'concebida': 1, 'autor': 1, 'de': 2, 'esta': 1, 'célebre': 1, 'frase': 1, 'josé': 1, 'vasconcelos': 1, 'asumió': 1, 'rectoría': 1, 'en': 5, '1920': 1, 'una': 2, 'época': 1, 'las': 1, 'esperanzas': 1, 'revolución': 1, 'aún': 1, 'estaban': 1, 'vivas': 1, 'había': 1, 'gran': 1, 'fé': 1, 'patria': 1, 'y': 1, 'ánimo': 1, 'redentor': 1, 'se': 1, 'extendía': 1, 'ambiente': 1}\n"
          ],
          "name": "stdout"
        }
      ]
    },
    {
      "cell_type": "code",
      "metadata": {
        "colab": {
          "base_uri": "https://localhost:8080/"
        },
        "id": "_o0el8q5PU-t",
        "outputId": "1ee95643-1fe9-4943-a8c6-f6ed6dbd30d8"
      },
      "source": [
        "frase= \"\"\"El lema que anima a la Universidad Nacional, Por mi raza hablará el espíritu, revela la vocación humanística con la que fue concebida. El autor de esta célebre frase, José Vasconcelos, asumió la rectoría en 1920, en una época en que las esperanzas de la Revolución aún estaban vivas,\n",
        " había una gran fé en la Patria y el ánimo redentor se extendía en el ambiente.\"\"\"\n",
        "frase = frase.strip().replace(\"\\n\", \" \").replace(\",\",\" \").replace(\".\",\"\").lower().split(\" \")\n",
        "print (frase)\n",
        "frecuencias={}\n",
        "for index in range(len(frase)):\n",
        "  print(hash(frase[index]))\n",
        "  if frase[index] in frecuencias:\n",
        "    frecuencias[frase[index]]+=1\n",
        "  else:\n",
        "    frecuencias[frase[index]]=1\n",
        "\n",
        "print(frecuencias)"
      ],
      "execution_count": 12,
      "outputs": [
        {
          "output_type": "stream",
          "text": [
            "['el', 'lema', 'que', 'anima', 'a', 'la', 'universidad', 'nacional', '', 'por', 'mi', 'raza', 'hablará', 'el', 'espíritu', '', 'revela', 'la', 'vocación', 'humanística', 'con', 'la', 'que', 'fue', 'concebida', 'el', 'autor', 'de', 'esta', 'célebre', 'frase', '', 'josé', 'vasconcelos', '', 'asumió', 'la', 'rectoría', 'en', '1920', '', 'en', 'una', 'época', 'en', 'que', 'las', 'esperanzas', 'de', 'la', 'revolución', 'aún', 'estaban', 'vivas', '', '', 'había', 'una', 'gran', 'fé', 'en', 'la', 'patria', 'y', 'el', 'ánimo', 'redentor', 'se', 'extendía', 'en', 'el', 'ambiente']\n",
            "5591160346480181394\n",
            "5342077067168049933\n",
            "-8323687572294091059\n",
            "-8919794808567758376\n",
            "-8009127298919139442\n",
            "-6642166867867025224\n",
            "-3460307030240122559\n",
            "-6668988228535300110\n",
            "0\n",
            "5389020023551515380\n",
            "5426370276779255763\n",
            "4131211585554576079\n",
            "-6967122162943380197\n",
            "5591160346480181394\n",
            "-8402359513394945935\n",
            "0\n",
            "-1291828856279901058\n",
            "-6642166867867025224\n",
            "-9161397969013523804\n",
            "-7738287103496173812\n",
            "7989034393001539837\n",
            "-6642166867867025224\n",
            "-8323687572294091059\n",
            "-8664472665845841398\n",
            "-7092065491658391946\n",
            "5591160346480181394\n",
            "4544657271369903654\n",
            "-5055521399835787931\n",
            "-5964755721198751059\n",
            "786663682651524367\n",
            "8730612221417144100\n",
            "0\n",
            "7648581683023418740\n",
            "2672333928670355419\n",
            "0\n",
            "-8112267193622663785\n",
            "-6642166867867025224\n",
            "-5911195781698548875\n",
            "3131198196360993483\n",
            "-5460231646047919484\n",
            "0\n",
            "3131198196360993483\n",
            "-8501482553267196581\n",
            "9106959854084083250\n",
            "3131198196360993483\n",
            "-8323687572294091059\n",
            "3176055403241062636\n",
            "-311117703473605217\n",
            "-5055521399835787931\n",
            "-6642166867867025224\n",
            "-6553575183439591250\n",
            "-3772164224534503841\n",
            "2500863305815806845\n",
            "-2025024568852718064\n",
            "0\n",
            "0\n",
            "1470107330412926502\n",
            "-8501482553267196581\n",
            "5313200847678220283\n",
            "-3019340072035028550\n",
            "3131198196360993483\n",
            "-6642166867867025224\n",
            "3692651206870165452\n",
            "5818362691884076441\n",
            "5591160346480181394\n",
            "265574606054492939\n",
            "-8719701389353403095\n",
            "-2047898040875155793\n",
            "-2234073297629388477\n",
            "3131198196360993483\n",
            "5591160346480181394\n",
            "-4681853092898010949\n",
            "{'el': 5, 'lema': 1, 'que': 3, 'anima': 1, 'a': 1, 'la': 6, 'universidad': 1, 'nacional': 1, '': 7, 'por': 1, 'mi': 1, 'raza': 1, 'hablará': 1, 'espíritu': 1, 'revela': 1, 'vocación': 1, 'humanística': 1, 'con': 1, 'fue': 1, 'concebida': 1, 'autor': 1, 'de': 2, 'esta': 1, 'célebre': 1, 'frase': 1, 'josé': 1, 'vasconcelos': 1, 'asumió': 1, 'rectoría': 1, 'en': 5, '1920': 1, 'una': 2, 'época': 1, 'las': 1, 'esperanzas': 1, 'revolución': 1, 'aún': 1, 'estaban': 1, 'vivas': 1, 'había': 1, 'gran': 1, 'fé': 1, 'patria': 1, 'y': 1, 'ánimo': 1, 'redentor': 1, 'se': 1, 'extendía': 1, 'ambiente': 1}\n"
          ],
          "name": "stdout"
        }
      ]
    }
  ]
}