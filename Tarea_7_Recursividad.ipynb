{
  "nbformat": 4,
  "nbformat_minor": 0,
  "metadata": {
    "colab": {
      "name": "Tarea 7 Recursividad",
      "provenance": [],
      "authorship_tag": "ABX9TyMoazcqUBJttAw8brlS5v6t",
      "include_colab_link": true
    },
    "kernelspec": {
      "display_name": "Python 3",
      "name": "python3"
    }
  },
  "cells": [
    {
      "cell_type": "markdown",
      "metadata": {
        "id": "view-in-github",
        "colab_type": "text"
      },
      "source": [
        "<a href=\"https://colab.research.google.com/github/diegoalmanzaxd/daa_2021_1/blob/master/Tarea_7_Recursividad.ipynb\" target=\"_parent\"><img src=\"https://colab.research.google.com/assets/colab-badge.svg\" alt=\"Open In Colab\"/></a>"
      ]
    },
    {
      "cell_type": "code",
      "metadata": {
        "colab": {
          "base_uri": "https://localhost:8080/"
        },
        "id": "k-Kq2kO7aARY",
        "outputId": "45927e8e-ba07-4fc3-9f6a-828c728666e1"
      },
      "source": [
        "#Crear una lista de enteros en Python y realizar la suma con recursividad, el caso base es cuando la lista este vacía.\n",
        "def recursuma(arreglo,suma,i):\n",
        "  if i > 0:\n",
        "    suma+=arreglo[i-1]\n",
        "    i-=1\n",
        "    recursuma(arreglo,suma,i)\n",
        "  else:\n",
        "    print(suma)\n",
        "Arreglo=[1,2,3,4,5,6,7,8,9,1,2,3,4,5,6,7,8,9]\n",
        "suma=0\n",
        "i=18\n",
        "print(Arreglo)\n",
        "recursuma(Arreglo,suma,i)"
      ],
      "execution_count": null,
      "outputs": [
        {
          "output_type": "stream",
          "text": [
            "[1, 2, 3, 4, 5, 6, 7, 8, 9, 1, 2, 3, 4, 5, 6, 7, 8, 9]\n",
            "90\n"
          ],
          "name": "stdout"
        }
      ]
    },
    {
      "cell_type": "code",
      "metadata": {
        "colab": {
          "base_uri": "https://localhost:8080/"
        },
        "id": "sjJgWnKlae3l",
        "outputId": "ce85ba00-4df0-4ae0-91e9-cc0da67e9577"
      },
      "source": [
        "# Hacer un contador regresivo con recursión.\n",
        "def contareg(n):\n",
        "  if n>0:\n",
        "    print(n)\n",
        "    n-=1\n",
        "    contareg(n)\n",
        "  else:\n",
        "    print(\"0\")\n",
        "n=10\n",
        "print(\"Numero:\",n)\n",
        "contareg(n)"
      ],
      "execution_count": null,
      "outputs": [
        {
          "output_type": "stream",
          "text": [
            "Numero: 10\n",
            "10\n",
            "9\n",
            "8\n",
            "7\n",
            "6\n",
            "5\n",
            "4\n",
            "3\n",
            "2\n",
            "1\n",
            "0\n"
          ],
          "name": "stdout"
        }
      ]
    },
    {
      "cell_type": "code",
      "metadata": {
        "colab": {
          "base_uri": "https://localhost:8080/"
        },
        "id": "QfarH3F5arQX",
        "outputId": "a3f1e492-46c8-4832-8fb9-8f3dab41ad31"
      },
      "source": [
        "#Sacar de un ADT pila el valor en la posición media.\n",
        "class Stack:\n",
        "  def __init__(self):\n",
        "    self.__datos=[]\n",
        "  def is_empty(self):\n",
        "    return len(self.__datos)==0\n",
        "  def get_top(self):\n",
        "    return self.__datos[-1]\n",
        "  def pop(self):\n",
        "    return self.__datos.pop()\n",
        "  def push(self,valor):\n",
        "    self.__datos.append(valor)\n",
        "  def get_length(self):\n",
        "    return len(self.__datos)\n",
        "  def to_string(self):\n",
        "    print(\"-------------------------\")\n",
        "    for i in self.__datos[-1::-1]:\n",
        "      print(i)\n",
        "    print(\"-------------------------\")\n",
        "    print()\n",
        "def medio(pila,m,x,i):\n",
        "  if m>i:\n",
        "    x=pila.pop()\n",
        "    i+=1\n",
        "    medio(pila,m,x,i)\n",
        "  if m==i:\n",
        "    pila.pop()\n",
        "  pila.push(x)\n",
        "pila=Stack()\n",
        "pila.push(10)\n",
        "pila.push(20)\n",
        "pila.push(30)\n",
        "pila.push(40)\n",
        "pila.push(50)\n",
        "pila.push(60)\n",
        "pila.push(70)\n",
        "pila.push(80)\n",
        "pila.push(90)\n",
        "print(\"Pila completa\")\n",
        "pila.to_string()\n",
        "m=pila.get_length()//2\n",
        "medio(pila,m,0,0)\n",
        "print(\"Pila sin el valor de enmedio\")\n",
        "pila.to_string()"
      ],
      "execution_count": 9,
      "outputs": [
        {
          "output_type": "stream",
          "text": [
            "Pila completa\n",
            "-------------------------\n",
            "90\n",
            "80\n",
            "70\n",
            "60\n",
            "50\n",
            "40\n",
            "30\n",
            "20\n",
            "10\n",
            "-------------------------\n",
            "\n",
            "Pila sin el valor de enmedio\n",
            "-------------------------\n",
            "90\n",
            "80\n",
            "70\n",
            "60\n",
            "40\n",
            "30\n",
            "20\n",
            "10\n",
            "-------------------------\n",
            "\n"
          ],
          "name": "stdout"
        }
      ]
    }
  ]
}