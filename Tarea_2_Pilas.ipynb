{
  "nbformat": 4,
  "nbformat_minor": 0,
  "metadata": {
    "colab": {
      "name": "Tarea 2 Pilas.ipynb",
      "provenance": [],
      "authorship_tag": "ABX9TyNTtsWrJUqRdz11m2LMnGa/",
      "include_colab_link": true
    },
    "kernelspec": {
      "name": "python3",
      "display_name": "Python 3"
    }
  },
  "cells": [
    {
      "cell_type": "markdown",
      "metadata": {
        "id": "view-in-github",
        "colab_type": "text"
      },
      "source": [
        "<a href=\"https://colab.research.google.com/github/diegoalmanzaxd/daa_2021_1/blob/master/Tarea_2_Pilas.ipynb\" target=\"_parent\"><img src=\"https://colab.research.google.com/assets/colab-badge.svg\" alt=\"Open In Colab\"/></a>"
      ]
    },
    {
      "cell_type": "markdown",
      "metadata": {
        "id": "Akteh8PEPncg"
      },
      "source": [
        "# Tarea\n",
        "Hacer un programa que valide el balanceo de '( )' , '[ ]' , '{ }'\n",
        "en programas de lenguaje C y Java tomando como base el código de la clase"
      ]
    },
    {
      "cell_type": "code",
      "metadata": {
        "id": "bD-alj2gNxgn",
        "outputId": "2a6e4d6c-3d88-4602-a135-4883f1f3402e",
        "colab": {
          "base_uri": "https://localhost:8080/"
        }
      },
      "source": [
        "class Stack:\n",
        "  def __init__(self):\n",
        "    self.__datos=[]\n",
        "  def is_empty(self):\n",
        "    return len(self.__datos)==0\n",
        "  def get_top(self):\n",
        "    return self.__datos[-1]\n",
        "  def pop(self):\n",
        "    return self.__datos.pop()\n",
        "  def push(self,valor):\n",
        "    self.__datos.append(valor)\n",
        "  def get_length(self):\n",
        "    return len(self.__datos)\n",
        "  def to_string(self):\n",
        "    print(\"-------------------------\")\n",
        "    for i in self.__datos[-1::-1]:\n",
        "      print(i)\n",
        "    print(\"-------------------------\")\n",
        "    print()\n",
        "def balanceo(cadena):\n",
        "  parentesis=Stack()\n",
        "  corchetes=Stack()\n",
        "  picocorchetes=Stack()\n",
        "  aux=0\n",
        "  for i in range (len(cadena)):\n",
        "    if cadena[i]==\"(\":\n",
        "      parentesis.push(\"@\")\n",
        "    if cadena[i]==\")\":\n",
        "      try:\n",
        "        parentesis.pop()\n",
        "      except:\n",
        "        aux=1\n",
        "        pass\n",
        "    if cadena[i]==\"[\":\n",
        "      corchetes.push(\"@\")\n",
        "    if cadena[i]==\"]\":\n",
        "      try:\n",
        "        corchetes.pop()\n",
        "      except:\n",
        "        aux=1\n",
        "        pass\n",
        "    if cadena[i]==\"(\":\n",
        "      picocorchetes.push(\"@\")\n",
        "    if cadena[i]==\")\":\n",
        "      try:\n",
        "        picocorchetes.pop()\n",
        "      except:\n",
        "        aux=1\n",
        "        pass\n",
        "  if (parentesis.is_empty()==True) and (corchetes.is_empty()==True) and (picocorchetes.is_empty()==True) and (aux==0):\n",
        "    print(\"La cadena está balanceada\")\n",
        "  else:\n",
        "    print(\"La cadena está desbalanceada\")\n",
        "\n",
        "def main():\n",
        "  a=\"\"\"arr=[]\n",
        "  palindromos=[]\n",
        "  contador=0\n",
        "  for i in range(len(h)):\n",
        "    for j in range(len(m)):\n",
        "      arr.append(h[i]+\":\"+m[j])\n",
        "  print(arr)\n",
        "  for k in range(0,len(arr)):\n",
        "    if (arr[k][0]==arr[k][4]) and (arr[k][1]==arr[k][3]):\n",
        "      print(arr[k])\n",
        "      contador+=1\n",
        "  print(\"los palindromos encontrados fueron:\"\n",
        "  print(contador)\"\"\"\n",
        "  balanceo(a)\n",
        "  \n",
        "  b=\"\"\"class Stack:\n",
        "  def __init__(self):\n",
        "    self.__datos=[]\n",
        "  def is_empty(self):\n",
        "    return len(self.__datos)==0\n",
        "  def get_top(self):\n",
        "    return self.__datos[-1]\n",
        "  def pop(self):\n",
        "    return self.__datos.pop()\n",
        "  def push(self,valor):\n",
        "    self.__datos.append(valor)\n",
        "  def get_length(self):\n",
        "    return len(self.__datos)\n",
        "  def to_string(self):\n",
        "    print(\"-------------------------\")\n",
        "    for i in self.__datos[-1::-1]:\n",
        "      print(i)\n",
        "    print(\"-------------------------\")\n",
        "    print()\"\"\"\n",
        "  balanceo(b)\n",
        "  c=\"\"\")class Stack:\n",
        "  def __init__(self):\n",
        "    self.__datos=[]\n",
        "  def is_empty(self):\n",
        "    return len(self.__datos)==0\n",
        "  def get_top(self):\n",
        "    return self.__datos[-1]\n",
        "  def pop(self):\n",
        "    return self.__datos.pop()\n",
        "  def push(self,valor):\n",
        "    self.__datos.append(valor)\n",
        "  def get_length(self):\n",
        "    return len(self.__datos)\n",
        "  def to_string(self):\n",
        "    print(\"-------------------------\")\n",
        "    for i in self.__datos[-1::-1]:\n",
        "      print(i)\n",
        "    print(\"-------------------------\")\n",
        "    print()\"\"\"\n",
        "  balanceo(c)\n",
        "main()"
      ],
      "execution_count": 17,
      "outputs": [
        {
          "output_type": "stream",
          "text": [
            "La cadena está desbalanceada\n",
            "La cadena está balanceada\n",
            "La cadena está desbalanceada\n"
          ],
          "name": "stdout"
        }
      ]
    }
  ]
}