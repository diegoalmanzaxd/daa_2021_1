{
  "nbformat": 4,
  "nbformat_minor": 0,
  "metadata": {
    "colab": {
      "name": "7 de diciembre.ipynb",
      "provenance": [],
      "authorship_tag": "ABX9TyOI9EADJtMbssrcTo2Q2uZM",
      "include_colab_link": true
    },
    "kernelspec": {
      "name": "python3",
      "display_name": "Python 3"
    }
  },
  "cells": [
    {
      "cell_type": "markdown",
      "metadata": {
        "id": "view-in-github",
        "colab_type": "text"
      },
      "source": [
        "<a href=\"https://colab.research.google.com/github/diegoalmanzaxd/daa_2021_1/blob/master/7_de_diciembre.ipynb\" target=\"_parent\"><img src=\"https://colab.research.google.com/assets/colab-badge.svg\" alt=\"Open In Colab\"/></a>"
      ]
    },
    {
      "cell_type": "code",
      "metadata": {
        "id": "LgDKCAgivHtL"
      },
      "source": [
        "def fnrecinfinita():\n",
        "  print(\"hola\")\n",
        "  fnrecinfinita()"
      ],
      "execution_count": 1,
      "outputs": []
    },
    {
      "cell_type": "code",
      "metadata": {
        "id": "FBUARVFckRYc"
      },
      "source": [
        "fnrecinfinita()"
      ],
      "execution_count": null,
      "outputs": []
    },
    {
      "cell_type": "code",
      "metadata": {
        "colab": {
          "base_uri": "https://localhost:8080/"
        },
        "id": "EHZtBFFEkTM0",
        "outputId": "7b5c23a9-b9b3-4146-a389-5542d921fa1e"
      },
      "source": [
        "def fnrec(x):\n",
        "  if x==0:\n",
        "    print(\"stop\")\n",
        "  else:\n",
        "    print(x)\n",
        "    fnrec(x-1)\n",
        "    \n",
        "\n",
        "\n",
        "def main():\n",
        "  print(\"inicio del programa\")\n",
        "  fnrec(5)\n",
        "  print(\"fin del programa\")\n",
        "main()"
      ],
      "execution_count": 2,
      "outputs": [
        {
          "output_type": "stream",
          "text": [
            "inicio del programa\n",
            "5\n",
            "4\n",
            "3\n",
            "2\n",
            "1\n",
            "stop\n",
            "fin del programa\n"
          ],
          "name": "stdout"
        }
      ]
    },
    {
      "cell_type": "code",
      "metadata": {
        "colab": {
          "base_uri": "https://localhost:8080/"
        },
        "id": "PA45YZNjkXpw",
        "outputId": "e8ee16b6-3a00-4345-ea39-17ad74363bac"
      },
      "source": [
        "def printrev(x):\n",
        "  if x>0:\n",
        "    printrev(x-1)\n",
        "    print(x)\n",
        "    \n",
        "    \n",
        "printrev(3)"
      ],
      "execution_count": 3,
      "outputs": [
        {
          "output_type": "stream",
          "text": [
            "1\n",
            "2\n",
            "3\n"
          ],
          "name": "stdout"
        }
      ]
    },
    {
      "cell_type": "code",
      "metadata": {
        "colab": {
          "base_uri": "https://localhost:8080/"
        },
        "id": "ZVPGh_ePkb6W",
        "outputId": "56aea7ac-5e00-42d5-ccee-392d0c1099a8"
      },
      "source": [
        "def fibonacci(n):\n",
        "  print(\"llamada:\",n)\n",
        "  if n==1 or n==0:\n",
        "    return n\n",
        "  else:\n",
        "    return (fibonacci(n-1)+ fibonacci(n-2))\n",
        "\n",
        "print(fibonacci(8))"
      ],
      "execution_count": 4,
      "outputs": [
        {
          "output_type": "stream",
          "text": [
            "llamada: 8\n",
            "llamada: 7\n",
            "llamada: 6\n",
            "llamada: 5\n",
            "llamada: 4\n",
            "llamada: 3\n",
            "llamada: 2\n",
            "llamada: 1\n",
            "llamada: 0\n",
            "llamada: 1\n",
            "llamada: 2\n",
            "llamada: 1\n",
            "llamada: 0\n",
            "llamada: 3\n",
            "llamada: 2\n",
            "llamada: 1\n",
            "llamada: 0\n",
            "llamada: 1\n",
            "llamada: 4\n",
            "llamada: 3\n",
            "llamada: 2\n",
            "llamada: 1\n",
            "llamada: 0\n",
            "llamada: 1\n",
            "llamada: 2\n",
            "llamada: 1\n",
            "llamada: 0\n",
            "llamada: 5\n",
            "llamada: 4\n",
            "llamada: 3\n",
            "llamada: 2\n",
            "llamada: 1\n",
            "llamada: 0\n",
            "llamada: 1\n",
            "llamada: 2\n",
            "llamada: 1\n",
            "llamada: 0\n",
            "llamada: 3\n",
            "llamada: 2\n",
            "llamada: 1\n",
            "llamada: 0\n",
            "llamada: 1\n",
            "llamada: 6\n",
            "llamada: 5\n",
            "llamada: 4\n",
            "llamada: 3\n",
            "llamada: 2\n",
            "llamada: 1\n",
            "llamada: 0\n",
            "llamada: 1\n",
            "llamada: 2\n",
            "llamada: 1\n",
            "llamada: 0\n",
            "llamada: 3\n",
            "llamada: 2\n",
            "llamada: 1\n",
            "llamada: 0\n",
            "llamada: 1\n",
            "llamada: 4\n",
            "llamada: 3\n",
            "llamada: 2\n",
            "llamada: 1\n",
            "llamada: 0\n",
            "llamada: 1\n",
            "llamada: 2\n",
            "llamada: 1\n",
            "llamada: 0\n",
            "21\n"
          ],
          "name": "stdout"
        }
      ]
    }
  ]
}